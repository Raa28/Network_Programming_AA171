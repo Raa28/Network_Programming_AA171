{
 "cells": [
  {
   "cell_type": "code",
   "execution_count": null,
   "metadata": {},
   "outputs": [],
   "source": [
    "# Import library yang diperlukan\n",
    "import argparse\n",
    "import getpass\n",
    "import imaplib\n",
    "import poplib"
   ]
  },
  {
   "cell_type": "code",
   "execution_count": null,
   "metadata": {},
   "outputs": [],
   "source": [
    "def imap_mail(username):\n",
    "    # Tulis kode program dari sini\n",
    "    try:\n",
    "        IMAP_SERVER = 'outlook.office365.com'\n",
    "        IMAP_PORT = 993\n",
    "\n",
    "        mailbox = imaplib.IMAP4_SSL(IMAP_SERVER, IMAP_PORT) \n",
    "        password = getpass.getpass(prompt='Enter Email Password: ') \n",
    "        mailbox.login(username, password)\n",
    "        mailbox.select('Inbox')\n",
    "        typ, data = mailbox.search(None, 'ALL')\n",
    "        for num in data[0].split():\n",
    "            typ, data = mailbox.fetch(num, '(RFC822)')\n",
    "            print ('Message %s\\n%s\\n' % (num, data[0][1]))\n",
    "            break\n",
    "        mailbox.close()\n",
    "        mailbox.logout()\n",
    "    # Implementasikan Error-handling     \n",
    "    except:\n",
    "        print('USERNAME / PASSWORD NOT CORRECT!')\n",
    "    # Sampai di sini\n",
    "    \n",
    "def pop_mail(username):\n",
    "    # Tulis kode program dari sini\n",
    "    try:\n",
    "        POP_SERVER = 'outlook.office365.com'\n",
    "        POP_PORT = 995\n",
    "\n",
    "        mailbox = poplib.POP3_SSL(POP_SERVER, POP_PORT) \n",
    "        mailbox.user(username)\n",
    "        password = getpass.getpass(prompt='Enter your email password: ') \n",
    "        mailbox.pass_(password)\n",
    "        num_messages = len(mailbox.list()[1])\n",
    "        print ('Total emails: {}'.format(num_messages))\n",
    "        mailbox.quit()\n",
    "    # Implementasikan Error-handling    \n",
    "    except:\n",
    "        print('USERNAME / PASSWORD NOT CORRECT!')\n",
    "    # Sampai di sini"
   ]
  },
  {
   "cell_type": "markdown",
   "metadata": {},
   "source": [
    "Buatlah sebuah fungsi yang dapat menggabungkan fungsionalitas fungsi `imap_mail()` dan `pop_mail()`"
   ]
  },
  {
   "cell_type": "code",
   "execution_count": null,
   "metadata": {},
   "outputs": [],
   "source": [
    "def mail(username, protocol, host, port):\n",
    "    # Tulis kode program dari sini \n",
    "    try:\n",
    "        IMAP_SERVER = 'outlook.office365.com'\n",
    "        IMAP_PORT = 993\n",
    "        \n",
    "        POP_SERVER = 'outlook.office365.com'\n",
    "        POP_PORT = 995\n",
    "        \n",
    "        if(protocol == 1 and 'stikom-bali' in host):\n",
    "       \n",
    "            SERVER = IMAP_SERVER\n",
    "        \n",
    "            PORT = IMAP_PORT\n",
    "            imap_mail(username)\n",
    "            \n",
    "        elif(protocol == 2 'stikom-bali' in host):\n",
    "        \n",
    "            SERVER = POP_SERVER\n",
    "       \n",
    "            PORT = POP_PORT\n",
    "            pop_mail(username)\n",
    "        # Implementasikan Error-handling\n",
    "        else:\n",
    "            print('INCORRECT MAIL!')\n",
    "    except:\n",
    "        print('SOMETHING ERROR!')\n",
    "    # Sampai di sini"
   ]
  },
  {
   "cell_type": "markdown",
   "metadata": {},
   "source": [
    "Panggil fungsi `mail()` di bawah ini:"
   ]
  },
  {
   "cell_type": "code",
   "execution_count": 1,
   "metadata": {},
   "outputs": [
    {
     "name": "stdout",
     "output_type": "stream",
     "text": [
      "Enter Email Stikom : 170010211@stikom-bali.ac.id\n",
      "PROTOCOL :\n",
      "1. IMAP\n",
      "2. POP3\n",
      "Choose Protocol : 1\n"
     ]
    },
    {
     "ename": "NameError",
     "evalue": "name 'mail' is not defined",
     "output_type": "error",
     "traceback": [
      "\u001b[1;31m---------------------------------------------------------------------------\u001b[0m",
      "\u001b[1;31mNameError\u001b[0m                                 Traceback (most recent call last)",
      "\u001b[1;32m<ipython-input-1-fd3c12c04e6a>\u001b[0m in \u001b[0;36m<module>\u001b[1;34m\u001b[0m\n\u001b[0;32m     10\u001b[0m \u001b[0musernameSplited\u001b[0m \u001b[1;33m=\u001b[0m \u001b[0musername\u001b[0m\u001b[1;33m.\u001b[0m\u001b[0msplit\u001b[0m\u001b[1;33m(\u001b[0m\u001b[1;34m'@'\u001b[0m\u001b[1;33m,\u001b[0m\u001b[1;36m1\u001b[0m\u001b[1;33m)\u001b[0m\u001b[1;33m\u001b[0m\u001b[1;33m\u001b[0m\u001b[0m\n\u001b[0;32m     11\u001b[0m \u001b[0mhost\u001b[0m \u001b[1;33m=\u001b[0m \u001b[0musernameSplited\u001b[0m\u001b[1;33m[\u001b[0m\u001b[1;36m1\u001b[0m\u001b[1;33m]\u001b[0m\u001b[1;33m\u001b[0m\u001b[1;33m\u001b[0m\u001b[0m\n\u001b[1;32m---> 12\u001b[1;33m \u001b[0mmail\u001b[0m\u001b[1;33m(\u001b[0m\u001b[0muser\u001b[0m\u001b[1;33m,\u001b[0m \u001b[0mprotocol\u001b[0m\u001b[1;33m,\u001b[0m \u001b[0mhost\u001b[0m\u001b[1;33m,\u001b[0m \u001b[0mport\u001b[0m\u001b[1;33m)\u001b[0m\u001b[1;33m\u001b[0m\u001b[1;33m\u001b[0m\u001b[0m\n\u001b[0m",
      "\u001b[1;31mNameError\u001b[0m: name 'mail' is not defined"
     ]
    }
   ],
   "source": [
    "username = input('Enter Email Stikom : ')\n",
    "try:     \n",
    "    print('PROTOCOL :')\n",
    "    print('1. IMAP')\n",
    "    print('2. POP3')\n",
    "    protocol = int(input('Choose Protocol : '))\n",
    "except:\n",
    "    print('INCORRECT INPUT!')\n",
    "port = '993'\n",
    "usernameSplited = username.split('@',1)\n",
    "host = usernameSplited[1]\n",
    "mail(user, protocol, host, port)"
   ]
  },
  {
   "cell_type": "code",
   "execution_count": null,
   "metadata": {},
   "outputs": [],
   "source": []
  }
 ],
 "metadata": {
  "kernelspec": {
   "display_name": "Python 3",
   "language": "python",
   "name": "python3"
  }
 },
 "nbformat": 4,
 "nbformat_minor": 4
}
